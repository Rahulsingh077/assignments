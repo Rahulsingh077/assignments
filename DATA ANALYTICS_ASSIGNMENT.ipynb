{
 "cells": [
  {
   "cell_type": "markdown",
   "id": "0fa7ffb8",
   "metadata": {},
   "source": [
    "# MODULE-1 PHYTHON"
   ]
  },
  {
   "cell_type": "markdown",
   "id": "b52bc8a3",
   "metadata": {},
   "source": [
    "## Q1- Write a program to find sum of first n positive numbers?"
   ]
  },
  {
   "cell_type": "code",
   "execution_count": 2,
   "id": "1e2b8016",
   "metadata": {},
   "outputs": [
    {
     "name": "stdout",
     "output_type": "stream",
     "text": [
      "Enter a number n to find sum up to :10\n",
      "Sum of first 10 positive numbers is : 55\n"
     ]
    }
   ],
   "source": [
    "sum=0\n",
    "a=int(input(\"Enter a number n to find sum up to :\"))\n",
    "for x in range(1,a+1):\n",
    "    sum=sum+x\n",
    "print(\"Sum of first\",a,\"positive numbers is :\",sum)"
   ]
  },
  {
   "cell_type": "markdown",
   "id": "f435cb36",
   "metadata": {},
   "source": [
    "## Q-2 Write a python program to count occurrence of substring in a string?"
   ]
  },
  {
   "cell_type": "code",
   "execution_count": 1,
   "id": "043c2132",
   "metadata": {},
   "outputs": [
    {
     "name": "stdout",
     "output_type": "stream",
     "text": [
      "Enter a test string :hi my name is rahul singh and today is tuesday\n",
      "Enter the test substring to count occurence in string :is\n",
      "Substring \" is \"repeats 2 times\n"
     ]
    }
   ],
   "source": [
    "a=str(input(\"Enter a test string :\"))\n",
    "b=str(input(\"Enter the test substring to count occurence in string :\"))\n",
    "x=a.count(b)\n",
    "print(\"Substring \\\"\",b,\"\\\"repeats\",x,\"times\")"
   ]
  },
  {
   "cell_type": "markdown",
   "id": "48db49dc",
   "metadata": {},
   "source": [
    "## Q3- Write a python program to find occurrence of each word in a string?|"
   ]
  },
  {
   "cell_type": "code",
   "execution_count": 5,
   "id": "f069b0c2",
   "metadata": {},
   "outputs": [
    {
     "name": "stdout",
     "output_type": "stream",
     "text": [
      "word - times a word occur\n",
      "---------------------------\n",
      "name - 1\n",
      "is - 2\n",
      "feb - 1\n",
      "today - 1\n",
      "temperature - 1\n",
      "in - 2\n",
      "tuesday - 1\n",
      "up - 1\n",
      "rahul - 1\n",
      "my - 1\n",
      "going - 1\n",
      "mid - 1\n",
      "and - 1\n",
      "hi - 1\n"
     ]
    }
   ],
   "source": [
    "sample_string=\"hi my name is rahul today is tuesday and temperature going up in mid feb\"\n",
    "a=sample_string.split()\n",
    "unique_set=set(a)\n",
    "print(\"word - times a word occur\")\n",
    "print(\"---------------------------\")\n",
    "for x in unique_set:\n",
    "    b=sample_string.count(x)\n",
    "    print(x,\"-\",b)\n",
    "    "
   ]
  },
  {
   "cell_type": "markdown",
   "id": "a0a90458",
   "metadata": {},
   "source": [
    "## Q-4 Write a program to get a single string from two given strings and separated by a space and swap the first two characters of each string?"
   ]
  },
  {
   "cell_type": "code",
   "execution_count": 17,
   "id": "98ac4ab8",
   "metadata": {},
   "outputs": [
    {
     "name": "stdout",
     "output_type": "stream",
     "text": [
      "Enter the first string :hi my name is rahul \n",
      "Enter the second string :today is tuesday\n",
      "ih my name is rahul  otday is tuesday\n"
     ]
    }
   ],
   "source": [
    "a=str(input(\"Enter the first string :\"))\n",
    "a.strip()\n",
    "x=a[0]\n",
    "y=a[1]\n",
    "z=y+x\n",
    "new_1=a[2:]\n",
    "a=z+new_1\n",
    "b=str((input(\"Enter the second string :\")))\n",
    "b.strip()\n",
    "c=b[0]\n",
    "d=b[1]\n",
    "e=d+c\n",
    "new_2=b[2:]\n",
    "b=e+new_2\n",
    "modstr=a+\" \"+b\n",
    "print(modstr)\n",
    "\n",
    "\n",
    "\n"
   ]
  },
  {
   "cell_type": "markdown",
   "id": "743baad9",
   "metadata": {},
   "source": [
    "## Q5- Write a python program to add \"ing\" at the end of string (lenght should be atleast 3) , If the given string already ends with 'ing' then add 'ly' instead If the string length of the given string is less than 3, leave it unchanged "
   ]
  },
  {
   "cell_type": "code",
   "execution_count": 19,
   "id": "a77e5bef",
   "metadata": {},
   "outputs": [
    {
     "name": "stdout",
     "output_type": "stream",
     "text": [
      "Enter a string :talking\n",
      "talkingly\n"
     ]
    }
   ],
   "source": [
    "a=str(input(\"Enter a string :\"))\n",
    "a.strip()\n",
    "b=len(a)\n",
    "if b<3:\n",
    "    print(a)\n",
    "elif b>3:\n",
    "    c=a.endswith(\"ing\")\n",
    "    if c==True:\n",
    "        print(a+\"ly\")\n",
    "    else:\n",
    "        print(a+\"ing\")\n",
    "        "
   ]
  },
  {
   "cell_type": "markdown",
   "id": "7e63d21c",
   "metadata": {},
   "source": [
    "## Q-6 Write a Python program to find the first appearance of the substring 'not' and 'poor' from a given string, if 'not' follows the 'poor', replace the whole 'not'...'poor' substring with 'good'. Return the resulting string"
   ]
  },
  {
   "cell_type": "code",
   "execution_count": 24,
   "id": "1258ba32",
   "metadata": {},
   "outputs": [
    {
     "name": "stdout",
     "output_type": "stream",
     "text": [
      "Enter a string :hi my name is rahul i am poor but i am not stupid\n",
      "not first appears at index value  39\n",
      "poor first appear at index value  25\n",
      "hi my name is rahul i am good stupid\n"
     ]
    }
   ],
   "source": [
    "a=str(input(\"Enter a string :\"))\n",
    "b=a.find(\"not\")\n",
    "print(\"not first appears at index value \",b)\n",
    "c=a.find(\"poor\")\n",
    "print(\"poor first appear at index value \",c)\n",
    "if b<c:\n",
    "    pass\n",
    "else:\n",
    "    x=a[:c]\n",
    "    y=a[b+3:]\n",
    "    modstr=x+\"good\"+y\n",
    "    print(modstr)"
   ]
  },
  {
   "cell_type": "markdown",
   "id": "48601504",
   "metadata": {},
   "source": [
    "## Q-7 Program to find Greatest Common Divisor of two numbers.For example, the GCD of 20 and 28 is 4 and GCD of 98 and 56 is 14."
   ]
  },
  {
   "cell_type": "code",
   "execution_count": 6,
   "id": "d0c66306",
   "metadata": {},
   "outputs": [
    {
     "name": "stdout",
     "output_type": "stream",
     "text": [
      "Enter first number :124\n",
      "Enter second number :6\n",
      "GCD of 124 & 6 is  2\n"
     ]
    }
   ],
   "source": [
    "a=int(input(\"Enter first number :\"))\n",
    "b=int(input(\"Enter second number :\"))\n",
    "lst=[]\n",
    "lst_1=[]\n",
    "if a==1 and b==1:\n",
    "    print(\"GCD is 1\")\n",
    "elif a>=1 and b>=1:\n",
    "    for x in range(1,a+1):\n",
    "        if a%x==0:\n",
    "            lst.append(x)\n",
    "        else:\n",
    "            pass\n",
    "    for x in range(1,b+1):\n",
    "        if b%x==0:\n",
    "            lst_1.append(x)\n",
    "set_1=set(lst)\n",
    "set_2=set(lst_1)\n",
    "com=set_1.intersection(set_2)\n",
    "com_1=list(com)\n",
    "com_1.sort(reverse=True)\n",
    "gcd=com_1[0]\n",
    "print(\"GCD of\",a,\"&\",b,\"is \",gcd)\n",
    "        \n",
    "    "
   ]
  },
  {
   "cell_type": "markdown",
   "id": "156b4459",
   "metadata": {},
   "source": [
    "## Q-8 Write a Python program to check whether a list contains a sublist."
   ]
  },
  {
   "cell_type": "code",
   "execution_count": 4,
   "id": "ebc142c2",
   "metadata": {},
   "outputs": [
    {
     "name": "stdout",
     "output_type": "stream",
     "text": [
      "Enter an element to check :sunday\n",
      "sunday is present in the list\n"
     ]
    }
   ],
   "source": [
    "lst=[\"apple\",\"banana\",\"chickoo\",\"dragon fruit\",\"sunday\",\"monday\",\"tuesday\"]\n",
    "a=input(\"Enter an element to check :\")\n",
    "if a in lst:\n",
    "    print(a,\"is present in the list\")\n",
    "else:\n",
    "    print(a,\"is not in the list\")"
   ]
  },
  {
   "cell_type": "markdown",
   "id": "74cce044",
   "metadata": {},
   "source": [
    "## Q-9 Write a Python program to find the second smallest number in a list."
   ]
  },
  {
   "cell_type": "code",
   "execution_count": 1,
   "id": "63d75c35",
   "metadata": {},
   "outputs": [
    {
     "name": "stdout",
     "output_type": "stream",
     "text": [
      "12 is second smallest number.\n"
     ]
    }
   ],
   "source": [
    "a=[12,72,88,55,3454,122,11,77]\n",
    "a.sort()\n",
    "b=a[1]\n",
    "print(b,\"is second smallest number.\")"
   ]
  },
  {
   "cell_type": "markdown",
   "id": "03f1410a",
   "metadata": {},
   "source": [
    "## Q-10 Write a Python program to get unique values from a list."
   ]
  },
  {
   "cell_type": "code",
   "execution_count": 2,
   "id": "46483e08",
   "metadata": {},
   "outputs": [
    {
     "name": "stdout",
     "output_type": "stream",
     "text": [
      "unique elements of list are :\n",
      "[226, 77, 'apple', 'wednesday', 'bombay', 'chennai']\n"
     ]
    }
   ],
   "source": [
    "a=[\"apple\",\"bombay\",\"chennai\",\"apple\",226,77,77,\"wednesday\"]\n",
    "b=set(a)\n",
    "c=list(b)\n",
    "print(\"unique elements of list are :\")\n",
    "print(c)"
   ]
  },
  {
   "cell_type": "markdown",
   "id": "b9b55771",
   "metadata": {},
   "source": [
    "## Q-11 Write a Python program to unzip a list of tuples into individual lists"
   ]
  },
  {
   "cell_type": "code",
   "execution_count": 5,
   "id": "2e47dd3a",
   "metadata": {},
   "outputs": [
    {
     "name": "stdout",
     "output_type": "stream",
     "text": [
      "[1, 2, 3, 11, 22, 33, 111, 222, 333]\n"
     ]
    }
   ],
   "source": [
    "list_1=[(1,2,3),(11,22,33),(111,222,333)]\n",
    "list_2=[]\n",
    "for x in list_1:\n",
    "    for y in x:\n",
    "        list_2.append(y)\n",
    "print(list_2)"
   ]
  },
  {
   "cell_type": "markdown",
   "id": "0e77f765",
   "metadata": {},
   "source": [
    "## Q-12 Write a Python program to convert a list of tuples into a dictionary"
   ]
  },
  {
   "cell_type": "code",
   "execution_count": 11,
   "id": "8ad8144d",
   "metadata": {},
   "outputs": [
    {
     "name": "stdout",
     "output_type": "stream",
     "text": [
      "{'apple': 120, 'mango': 80, 'litchi': 150}\n"
     ]
    }
   ],
   "source": [
    "list_1=[(\"apple\",120),(\"mango\",80),(\"litchi\",150)]\n",
    "dictt=dict(list_1)\n",
    "print(dictt)\n",
    "        \n",
    "\n"
   ]
  },
  {
   "cell_type": "markdown",
   "id": "eb6a6a1d",
   "metadata": {},
   "source": [
    "## Q-13 Write a Python program to sort a dictionary (ascending /descending) by value."
   ]
  },
  {
   "cell_type": "code",
   "execution_count": 4,
   "id": "23813d81",
   "metadata": {},
   "outputs": [
    {
     "name": "stdout",
     "output_type": "stream",
     "text": [
      "Ascending order :\n",
      "['gujarat', 'indian', 'male', 'rahul', 'twenty three']\n",
      "----------------------------------\n",
      "Descending order :\n",
      "['twenty three', 'rahul', 'male', 'indian', 'gujarat']\n"
     ]
    }
   ],
   "source": [
    "bio={\n",
    "    \"name\":\"rahul\",\n",
    "    \"gender\":\"male\",\n",
    "    \"age\":\"twenty three\",\n",
    "    \"nationality\":\"indian\",\n",
    "    \"state\":\"gujarat\"\n",
    "}\n",
    "list_1=[]\n",
    "value = bio.values()\n",
    "for x in value:\n",
    "    list_1.append(x)\n",
    "list_1.sort()\n",
    "print(\"Ascending order :\")\n",
    "print(list_1)\n",
    "print(\"----------------------------------\")\n",
    "list_1.sort(reverse=True)\n",
    "print(\"Descending order :\")\n",
    "print(list_1)"
   ]
  },
  {
   "cell_type": "markdown",
   "id": "10541d5e",
   "metadata": {},
   "source": [
    "## Q-14 Write a Python program to find the highest 3 values in a dictionary."
   ]
  },
  {
   "cell_type": "code",
   "execution_count": 15,
   "id": "ecc72b64",
   "metadata": {},
   "outputs": [
    {
     "name": "stdout",
     "output_type": "stream",
     "text": [
      "[75000, 3250, 650]\n"
     ]
    }
   ],
   "source": [
    "stock={\n",
    "    \"adani green\":650,\n",
    "    \"tcs\":3250,\n",
    "    \"adani power\":170,\n",
    "    \"wilmar\":450,\n",
    "    \"mrf\":75000,\n",
    "    \"lic\":530\n",
    "}\n",
    "a=stock.values()\n",
    "list_1=list(a)\n",
    "list_1.sort(reverse=True)\n",
    "high_3=list_1[:3]\n",
    "print(high_3)\n"
   ]
  },
  {
   "cell_type": "markdown",
   "id": "4bec92a5",
   "metadata": {},
   "source": [
    "## Q-15 Given a number n, write a python program to make and print the list of Fibonacci series up to n"
   ]
  },
  {
   "cell_type": "code",
   "execution_count": 17,
   "id": "d9c5b8ea",
   "metadata": {},
   "outputs": [
    {
     "name": "stdout",
     "output_type": "stream",
     "text": [
      "Enter the number of terms n :5\n",
      "0\n",
      "1\n",
      "1\n",
      "2\n",
      "3\n"
     ]
    }
   ],
   "source": [
    "n=int(input(\"Enter the number of terms n :\"))\n",
    "a=0\n",
    "b=1\n",
    "count=0\n",
    "if n<=0:\n",
    "    print(\"Please enter correct number of terms.......\")\n",
    "elif n==1:\n",
    "    print(\"fibonacci series of\",n,\"terms is :\")\n",
    "    print(\"----------------------------------\")\n",
    "    print(a)\n",
    "else:\n",
    "    while count<n:\n",
    "        print(a)\n",
    "        c=a+b\n",
    "        a=b\n",
    "        b=c\n",
    "        count+=1"
   ]
  },
  {
   "cell_type": "markdown",
   "id": "1c44b972",
   "metadata": {},
   "source": [
    "## Q-16 . Counting the frequencies in a list using a dictionary in Python. Input : [1, 1, 1, 5, 5, 3, 1, 3, 3, 1,4, 4, 4, 2, 2, 2, 2] Expected output : 1 : 5 , 2 : 4 , 3 : 3 , 4 : 3 , 5 : 2"
   ]
  },
  {
   "cell_type": "code",
   "execution_count": 2,
   "id": "822653e9",
   "metadata": {},
   "outputs": [
    {
     "name": "stdout",
     "output_type": "stream",
     "text": [
      "{1: 1, 2: 2, 3: 3, 4: 4, 5: 5}\n"
     ]
    }
   ],
   "source": [
    "list_1=[1,2,2,3,3,3,4,4,4,4,5,5,5,5,5]\n",
    "set_1=set(list_1)\n",
    "frequency={}\n",
    "for x in set_1:\n",
    "    a=list_1.count(x)\n",
    "    frequency[x]=a\n",
    "print(frequency)\n",
    "    "
   ]
  },
  {
   "cell_type": "markdown",
   "id": "2d704191",
   "metadata": {},
   "source": [
    "## Q-17 Write a python program using function to find the sum of odd series and even series Odd series: 12/ 1! + 32/ 3! + 52/ 5!+……n Even series: 22/ 2! + 42/ 4! + 62/ 6!+……n"
   ]
  },
  {
   "cell_type": "code",
   "execution_count": 1,
   "id": "a1655b13",
   "metadata": {},
   "outputs": [
    {
     "name": "stdout",
     "output_type": "stream",
     "text": [
      "Enter the number of terms n :4\n",
      "sum of series is :\n",
      "17.78095238095238\n"
     ]
    }
   ],
   "source": [
    "def factorial(a):\n",
    "    if a<0:\n",
    "        print(\"Enter the positive number!!!!!! \")\n",
    "    elif a==0 or a==1:\n",
    "        return 1\n",
    "    else:\n",
    "        return a*factorial(a-1)\n",
    "def odd_series():\n",
    "    n=int(input(\"Enter the number of terms n :\"))\n",
    "    num_a=12\n",
    "    num_d=20\n",
    "    num_n=num_a+(n-1)*num_d # to find nth term of numerator\n",
    "    list_1=[]\n",
    "    for x in range(num_a,num_n+1,num_d):\n",
    "        list_1.append(x)\n",
    "    den_a=1\n",
    "    den_d=2\n",
    "    den_n=den_a+(n-1)*den_d #to find nth term of denominator\n",
    "    list_2=[]\n",
    "    for x in range(den_a,den_n+1,den_d):\n",
    "        list_2.append(x)\n",
    "    list_3=[]\n",
    "    for x in list_2:\n",
    "        y=factorial(x)\n",
    "        list_3.append(y)\n",
    "    list_4=[]\n",
    "    for x in range(0,len(list_1)):\n",
    "        list_4.append(list_1[x]/list_3[x])\n",
    "    sum=0\n",
    "    for x in list_4:\n",
    "        sum+=x\n",
    "    print(\"sum of series is :\")\n",
    "    print(sum)\n",
    "def even_series():\n",
    "    n=int(input(\"Enter the number of terms n :\"))\n",
    "    num_a=22\n",
    "    num_d=20\n",
    "    num_n=num_a+(n-1)*num_d # to find nth term of numerator\n",
    "    list_1=[]\n",
    "    for x in range(num_a,num_n+1,num_d):\n",
    "        list_1.append(x)\n",
    "    den_a=2\n",
    "    den_d=2\n",
    "    den_n=den_a+(n-1)*den_d #to find nth term of denominator\n",
    "    list_2=[]\n",
    "    for x in range(den_a,den_n+1,den_d):\n",
    "        list_2.append(x)\n",
    "    list_3=[]\n",
    "    for x in list_2:\n",
    "        y=factorial(x)\n",
    "        list_3.append(y)\n",
    "    list_4=[]\n",
    "    for x in range(0,len(list_1)):\n",
    "        list_4.append(list_1[x]/list_3[x])\n",
    "    sum=0\n",
    "    for x in list_4:\n",
    "        sum+=x\n",
    "    print(\"sum of series is :\")\n",
    "    print(sum)\n",
    "odd_series()\n",
    "    \n",
    "\n",
    "\n",
    "    "
   ]
  },
  {
   "cell_type": "markdown",
   "id": "a4e90d71",
   "metadata": {},
   "source": [
    "## Q-18 Python Program to Find Factorial of Number Using Recursion\n"
   ]
  },
  {
   "cell_type": "code",
   "execution_count": 2,
   "id": "1f1d0740",
   "metadata": {},
   "outputs": [
    {
     "name": "stdout",
     "output_type": "stream",
     "text": [
      "120\n"
     ]
    }
   ],
   "source": [
    "def factorial(a):\n",
    "    if a<0:\n",
    "        print(\"Enter the positive number!!!!!! \")\n",
    "    elif a==0 or a==1:\n",
    "        return 1\n",
    "    else:\n",
    "        return a*factorial(a-1)\n",
    "print(factorial(5))"
   ]
  },
  {
   "cell_type": "markdown",
   "id": "d8322757",
   "metadata": {},
   "source": [
    "## Q-19 Write a Python function that takes a list and returns a new list with unique elements of the first list."
   ]
  },
  {
   "cell_type": "code",
   "execution_count": 2,
   "id": "51c8022c",
   "metadata": {},
   "outputs": [
    {
     "name": "stdout",
     "output_type": "stream",
     "text": [
      "['banana', 'cherry', 'apple', 'dragon fruit']\n"
     ]
    }
   ],
   "source": [
    "def uni_list(a):\n",
    "    unique_set=set(a)\n",
    "    unique_list=list(unique_set)\n",
    "    print(unique_list)\n",
    "fruits=[\"apple\",\"banana\",\"cherry\",\"apple\",\"dragon fruit\",\"cherry\"]\n",
    "uni_list(fruits)"
   ]
  },
  {
   "cell_type": "markdown",
   "id": "de96f003",
   "metadata": {},
   "source": [
    "## Q-20 Mini project : "
   ]
  },
  {
   "cell_type": "code",
   "execution_count": null,
   "id": "9a44053e",
   "metadata": {},
   "outputs": [],
   "source": [
    "\"\"\"\n",
    "Problem Statement : Password Generator\n",
    "Make a program to generate a strong password using the input given by the user. To generate a password,\n",
    "randomly take some words from the user input and then include numbers, special characters and capital\n",
    "letters to generate the password. Also, keep a check that password length is more than 8 characters.\n",
    "Note: Include Exception handling wherever required. Also, make a ‘User’ class and store the details like user\n",
    "id, name and password of each user as a tuple.\n",
    "\"\"\""
   ]
  },
  {
   "cell_type": "code",
   "execution_count": 2,
   "id": "f03e58f8",
   "metadata": {},
   "outputs": [],
   "source": [
    "import random "
   ]
  },
  {
   "cell_type": "code",
   "execution_count": 3,
   "id": "b25c05e0",
   "metadata": {},
   "outputs": [
    {
     "name": "stdout",
     "output_type": "stream",
     "text": [
      "Enter character you want in password :rahulsingh\n",
      "Your password is : ghhhg475#&+&#FMU\n"
     ]
    }
   ],
   "source": [
    "a=(input(\"Enter character you want in password :\"))\n",
    "b=[0,1,2,3,4,5,6,7,8,9]\n",
    "c=\"@!#$%&*_-=+\"\n",
    "d=\"ABCDEFGHIJKLMNOPQRSTUVWXYZ\"\n",
    "list_1=[]\n",
    "for x in range(0,5):\n",
    "    e=random.choice(a)\n",
    "    list_1.append(e)\n",
    "for x in range(0,3):\n",
    "    f=random.choice(b)\n",
    "    list_1.append(f)\n",
    "for x in range(0,5):\n",
    "    g=random.choice(c)\n",
    "    list_1.append(g)\n",
    "for x in range(0,3):\n",
    "    h=random.choice(d)\n",
    "    list_1.append(h)\n",
    "pwd=\"\".join(map(str,list_1))\n",
    "print(\"Your password is :\",pwd)"
   ]
  },
  {
   "cell_type": "code",
   "execution_count": null,
   "id": "f14b7065",
   "metadata": {},
   "outputs": [],
   "source": []
  }
 ],
 "metadata": {
  "kernelspec": {
   "display_name": "Python 3 (ipykernel)",
   "language": "python",
   "name": "python3"
  },
  "language_info": {
   "codemirror_mode": {
    "name": "ipython",
    "version": 3
   },
   "file_extension": ".py",
   "mimetype": "text/x-python",
   "name": "python",
   "nbconvert_exporter": "python",
   "pygments_lexer": "ipython3",
   "version": "3.9.13"
  }
 },
 "nbformat": 4,
 "nbformat_minor": 5
}
